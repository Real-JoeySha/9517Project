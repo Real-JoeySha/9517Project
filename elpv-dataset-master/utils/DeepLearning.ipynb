{
 "cells": [
  {
   "cell_type": "code",
   "execution_count": 19,
   "metadata": {},
   "outputs": [],
   "source": [
    "from elpv_reader import load_dataset\n",
    "import numpy as np\n",
    "import tensorflow as tf\n",
    "import cv2\n",
    "import matplotlib.pyplot as plt\n",
    "from keras import datasets, layers, models\n",
    "from keras.utils import to_categorical\n",
    "from sklearn.metrics import f1_score\n",
    "from sklearn.metrics import accuracy_score\n",
    "from sklearn.metrics import confusion_matrix, ConfusionMatrixDisplay\n",
    "from imblearn.over_sampling import SMOTE\n",
    "from sklearn.model_selection import train_test_split\n",
    "from collections import Counter"
   ]
  },
  {
   "cell_type": "code",
   "execution_count": 2,
   "metadata": {},
   "outputs": [],
   "source": [
    "# load data\n",
    "images, probs, types = load_dataset()\n",
    "\n",
    "# Make probs labels\n",
    "probs = np.array([int(i*3) for i in probs])"
   ]
  },
  {
   "cell_type": "code",
   "execution_count": 20,
   "metadata": {},
   "outputs": [
    {
     "name": "stdout",
     "output_type": "stream",
     "text": [
      "Counter({0: 1508, 3: 715, 1: 295, 2: 106})\n"
     ]
    }
   ],
   "source": [
    "print(Counter(probs))"
   ]
  },
  {
   "cell_type": "code",
   "execution_count": 16,
   "metadata": {},
   "outputs": [],
   "source": [
    "# process the images with threshold\n",
    "IMAGES = []\n",
    "for i in images:\n",
    "    _, thresh = cv2.threshold(i, 255, 255,cv2.THRESH_OTSU)\n",
    "    IMAGES.append(thresh)\n",
    "IMAGES = np.array(IMAGES)\n",
    "images = IMAGES"
   ]
  },
  {
   "cell_type": "code",
   "execution_count": 17,
   "metadata": {},
   "outputs": [
    {
     "data": {
      "text/plain": [
       "<matplotlib.image.AxesImage at 0x1b5000ea6a0>"
      ]
     },
     "execution_count": 17,
     "metadata": {},
     "output_type": "execute_result"
    },
    {
     "data": {
      "image/png": "[encoded data removed]",
      "text/plain": [
       "<Figure size 432x288 with 1 Axes>"
      ]
     },
     "metadata": {
      "needs_background": "light"
     },
     "output_type": "display_data"
    }
   ],
   "source": [
    "plt.imshow(cv2.merge([images[11],images[11],images[11]]))"
   ]
  },
  {
   "cell_type": "code",
   "execution_count": 22,
   "metadata": {},
   "outputs": [],
   "source": [
    "# Count each unique label's occurrence\n",
    "# label_counts = {label: probs.count(label) for label in set(probs)}\n",
    "# print(\"Total counts per class:\", label_counts)\n",
    "\n",
    "# Reshape images to 2D for SMOTE\n",
    "num_images, height, width = images.shape\n",
    "images_reshaped = images.reshape(num_images, -1)\n",
    "\n",
    "# Apply SMOTE\n",
    "smote = SMOTE()\n",
    "X_over, y_labels_over = smote.fit_resample(images_reshaped, probs)\n",
    "\n",
    "# After oversampling, reshape the images back to the original shape\n",
    "X_over_reshaped = X_over.reshape(-1, height, width)\n",
    "\n",
    "# Now you need to construct 'types_over'. This part needs careful attention.\n",
    "# Since SMOTE creates new samples, we cannot simply repeat the 'types'.\n",
    "# Here's a simple way to do it: for each new sample in 'y_over' that was not in the original 'y_labels',\n",
    "# we randomly assign a 'type' from the original 'types' corresponding to the same class.\n",
    "\n",
    "# Find the indices of the added samples\n",
    "new_indices = [i for i in range(len(y_labels_over)) if i >= len(probs)]\n",
    "\n",
    "# Initialize types_over with the original types\n",
    "types_over = types.tolist()\n",
    "\n",
    "# Append types for the new, oversampled indices\n",
    "for i in new_indices:\n",
    "    # Get the label of the new sample\n",
    "    label = y_labels_over[i]\n",
    "    \n",
    "    # Get the indices of the original samples with the same label\n",
    "    original_indices = [j for j, l in enumerate(probs) if l == label]\n",
    "    \n",
    "    # Randomly choose a type from the original samples of the same label\n",
    "    chosen_type = types[np.random.choice(original_indices)]\n",
    "    \n",
    "    # Append this type to types_over\n",
    "    types_over.append(chosen_type)\n",
    "\n",
    "# Ensure that 'types_over' is now a numpy array\n",
    "types_over = np.array(types_over)\n",
    "\n",
    "# Split the dataset into training and testing sets\n",
    "X_train, X_test, y_train, y_test, types_train, types_test = train_test_split(\n",
    "    X_over_reshaped, y_labels_over, types_over, test_size=0.25, stratify=y_labels_over\n",
    ")\n",
    "\n",
    "train_y = to_categorical(y_train, num_classes=4)\n",
    "test_y = to_categorical(y_test, num_classes=4)"
   ]
  },
  {
   "cell_type": "code",
   "execution_count": 24,
   "metadata": {},
   "outputs": [
    {
     "name": "stdout",
     "output_type": "stream",
     "text": [
      "Counter({3: 1131, 1: 1131, 2: 1131, 0: 1131})\n"
     ]
    }
   ],
   "source": [
    "print(Counter(y_train))"
   ]
  },
  {
   "cell_type": "code",
   "execution_count": 25,
   "metadata": {},
   "outputs": [
    {
     "name": "stdout",
     "output_type": "stream",
     "text": [
      "Counter({1: 377, 3: 377, 2: 377, 0: 377})\n"
     ]
    }
   ],
   "source": [
    "print(Counter(y_test))"
   ]
  },
  {
   "cell_type": "code",
   "execution_count": 27,
   "metadata": {},
   "outputs": [],
   "source": [
    "# monocrystalline dataset\n",
    "mono_images = np.array([images[i] for i in range(len(types)) if types[i]=='mono'])\n",
    "mono_probs = to_categorical(np.array([probs[i] for i in range(len(types)) if types[i]=='mono']), num_classes=4)\n",
    "\n",
    "# polycrystalline dataset\n",
    "poly_images = np.array([images[i] for i in range(len(types)) if types[i]=='poly'])\n",
    "poly_probs = to_categorical(np.array([probs[i] for i in range(len(types)) if types[i]=='poly']), num_classes=4)"
   ]
  },
  {
   "cell_type": "code",
   "execution_count": 33,
   "metadata": {},
   "outputs": [],
   "source": [
    "def summary(true_y, pred_y, title):\n",
    "    print(title+':\\n')\n",
    "    print(f'accuracy: {accuracy_score(true_y, pred_y):.2f}\\n')\n",
    "    print(f'f1: {f1_score(true_y, pred_y, average=\"weighted\"):.2f}\\n')\n",
    "    ConfusionMatrixDisplay(confusion_matrix(true_y, pred_y)).plot()"
   ]
  },
  {
   "cell_type": "code",
   "execution_count": 29,
   "metadata": {},
   "outputs": [
    {
     "name": "stdout",
     "output_type": "stream",
     "text": [
      "Model: \"sequential_2\"\n",
      "_________________________________________________________________\n",
      " Layer (type)                Output Shape              Param #   \n",
      "=================================================================\n",
      " conv2d_19 (Conv2D)          (None, 298, 298, 6)       60        \n",
      "                                                                 \n",
      " max_pooling2d_7 (MaxPoolin  (None, 149, 149, 6)       0         \n",
      " g2D)                                                            \n",
      "                                                                 \n",
      " conv2d_20 (Conv2D)          (None, 147, 147, 10)      550       \n",
      "                                                                 \n",
      " max_pooling2d_8 (MaxPoolin  (None, 73, 73, 10)        0         \n",
      " g2D)                                                            \n",
      "                                                                 \n",
      " conv2d_21 (Conv2D)          (None, 71, 71, 32)        2912      \n",
      "                                                                 \n",
      " flatten_2 (Flatten)         (None, 161312)            0         \n",
      "                                                                 \n",
      " dense_6 (Dense)             (None, 128)               20648064  \n",
      "                                                                 \n",
      " dense_7 (Dense)             (None, 64)                8256      \n",
      "                                                                 \n",
      " dense_8 (Dense)             (None, 4)                 260       \n",
      "                                                                 \n",
      "=================================================================\n",
      "Total params: 20660102 (78.81 MB)\n",
      "Trainable params: 20660102 (78.81 MB)\n",
      "Non-trainable params: 0 (0.00 Byte)\n",
      "_________________________________________________________________\n"
     ]
    }
   ],
   "source": [
    "# LeNet5\n",
    "model1 = models.Sequential()\n",
    "model1.add(layers.Conv2D(6, (3, 3), activation='relu', input_shape=(300, 300, 1)))\n",
    "model1.add(layers.MaxPooling2D((2, 2), strides=(2, 2)))\n",
    "model1.add(layers.Conv2D(10, (3, 3), activation='relu'))\n",
    "model1.add(layers.MaxPooling2D((2, 2), strides=(2, 2)))\n",
    "model1.add(layers.Conv2D(32, (3, 3), activation='relu'))\n",
    "# model.add(layers.MaxPooling2D((2, 2), strides=(2, 2)))\n",
    "# model.add(layers.Conv2D(128, (3, 3), activation='relu'))\n",
    "# model.add(layers.MaxPooling2D((2, 2), strides=(2, 2)))\n",
    "\n",
    "model1.add(layers.Flatten())\n",
    "# model.add(layers.Dense(256, activation='relu'))\n",
    "model1.add(layers.Dense(128, activation='relu'))\n",
    "model1.add(layers.Dense(64, activation='relu'))\n",
    "model1.add(layers.Dense(4, activation='softmax'))\n",
    "model1.summary()"
   ]
  },
  {
   "cell_type": "code",
   "execution_count": 30,
   "metadata": {},
   "outputs": [
    {
     "name": "stdout",
     "output_type": "stream",
     "text": [
      "Epoch 1/10\n",
      "142/142 [==============================] - 56s 384ms/step - loss: 189.4979 - accuracy: 0.5906\n",
      "Epoch 2/10\n",
      "142/142 [==============================] - 54s 383ms/step - loss: 0.2676 - accuracy: 0.9202\n",
      "Epoch 3/10\n",
      "142/142 [==============================] - 54s 380ms/step - loss: 0.1018 - accuracy: 0.9779\n",
      "Epoch 4/10\n",
      "142/142 [==============================] - 54s 378ms/step - loss: 0.0544 - accuracy: 0.9863\n",
      "Epoch 5/10\n",
      "142/142 [==============================] - 54s 381ms/step - loss: 0.0305 - accuracy: 0.9940\n",
      "Epoch 6/10\n",
      "142/142 [==============================] - 53s 376ms/step - loss: 0.0161 - accuracy: 0.9982\n",
      "Epoch 7/10\n",
      "142/142 [==============================] - 54s 377ms/step - loss: 0.0081 - accuracy: 1.0000\n",
      "Epoch 8/10\n",
      "142/142 [==============================] - 54s 380ms/step - loss: 0.0048 - accuracy: 1.0000\n",
      "Epoch 9/10\n",
      "142/142 [==============================] - 54s 379ms/step - loss: 0.0034 - accuracy: 1.0000\n",
      "Epoch 10/10\n",
      "142/142 [==============================] - 53s 376ms/step - loss: 0.0024 - accuracy: 1.0000\n"
     ]
    }
   ],
   "source": [
    "model1.compile(optimizer='adam',\n",
    "              loss=tf.keras.losses.CategoricalCrossentropy(),\n",
    "    # SparseCategoricalCrossentropy(from_logits=True),\n",
    "              metrics=['accuracy'])\n",
    "\n",
    "history = model1.fit(X_train, train_y, epochs=10)"
   ]
  },
  {
   "cell_type": "code",
   "execution_count": 31,
   "metadata": {},
   "outputs": [
    {
     "name": "stdout",
     "output_type": "stream",
     "text": [
      "48/48 [==============================] - 3s 52ms/step - loss: 0.5278 - accuracy: 0.9045\n"
     ]
    }
   ],
   "source": [
    "test_loss, test_acc = model1.evaluate(X_test, test_y)"
   ]
  },
  {
   "cell_type": "code",
   "execution_count": 34,
   "metadata": {},
   "outputs": [
    {
     "name": "stdout",
     "output_type": "stream",
     "text": [
      "48/48 [==============================] - 3s 52ms/step\n",
      "mono and poly:\n",
      "\n",
      "accuracy: 0.90\n",
      "\n",
      "f1: 0.90\n",
      "\n",
      "34/34 [==============================] - 2s 51ms/step\n",
      "mono:\n",
      "\n",
      "accuracy: 0.96\n",
      "\n",
      "f1: 0.96\n",
      "\n",
      "49/49 [==============================] - 3s 52ms/step\n",
      "poly:\n",
      "\n",
      "accuracy: 0.95\n",
      "\n",
      "f1: 0.95\n",
      "\n"
     ]
    },
    {
     "data": {
      "image/png": "[encoded data removed]",
      "text/plain": [
       "<Figure size 432x288 with 2 Axes>"
      ]
     },
     "metadata": {
      "needs_background": "light"
     },
     "output_type": "display_data"
    },
    {
     "data": {
      "image/png": "[encoded data removed]",
      "text/plain": [
       "<Figure size 432x288 with 2 Axes>"
      ]
     },
     "metadata": {
      "needs_background": "light"
     },
     "output_type": "display_data"
    },
    {
     "data": {
      "image/png": "[encoded data removed]",
      "text/plain": [
       "<Figure size 432x288 with 2 Axes>"
      ]
     },
     "metadata": {
      "needs_background": "light"
     },
     "output_type": "display_data"
    }
   ],
   "source": [
    "summary(np.argmax(test_y, axis=1), np.argmax(model1.predict(X_test), axis=1), 'mono and poly')\n",
    "summary(np.argmax(mono_probs, axis=1), np.argmax(model1.predict(mono_images), axis=1), 'mono')\n",
    "summary(np.argmax(poly_probs, axis=1), np.argmax(model1.predict(poly_images), axis=1), 'poly')"
   ]
  },
  {
   "cell_type": "code",
   "execution_count": 26,
   "metadata": {},
   "outputs": [
    {
     "name": "stdout",
     "output_type": "stream",
     "text": [
      "Model: \"sequential\"\n",
      "_________________________________________________________________\n",
      " Layer (type)                Output Shape              Param #   \n",
      "=================================================================\n",
      " conv2d (Conv2D)             (None, 298, 298, 64)      640       \n",
      "                                                                 \n",
      " conv2d_1 (Conv2D)           (None, 296, 296, 64)      36928     \n",
      "                                                                 \n",
      " max_pooling2d (MaxPooling2  (None, 148, 148, 64)      0         \n",
      " D)                                                              \n",
      "                                                                 \n",
      " conv2d_2 (Conv2D)           (None, 146, 146, 128)     73856     \n",
      "                                                                 \n",
      " conv2d_3 (Conv2D)           (None, 144, 144, 128)     147584    \n",
      "                                                                 \n",
      " max_pooling2d_1 (MaxPoolin  (None, 72, 72, 128)       0         \n",
      " g2D)                                                            \n",
      "                                                                 \n",
      " conv2d_4 (Conv2D)           (None, 70, 70, 256)       295168    \n",
      "                                                                 \n",
      " conv2d_5 (Conv2D)           (None, 68, 68, 256)       590080    \n",
      "                                                                 \n",
      " conv2d_6 (Conv2D)           (None, 66, 66, 256)       590080    \n",
      "                                                                 \n",
      " conv2d_7 (Conv2D)           (None, 64, 64, 256)       590080    \n",
      "                                                                 \n",
      " max_pooling2d_2 (MaxPoolin  (None, 32, 32, 256)       0         \n",
      " g2D)                                                            \n",
      "                                                                 \n",
      " conv2d_8 (Conv2D)           (None, 30, 30, 512)       1180160   \n",
      "                                                                 \n",
      " conv2d_9 (Conv2D)           (None, 28, 28, 512)       2359808   \n",
      "                                                                 \n",
      " conv2d_10 (Conv2D)          (None, 26, 26, 512)       2359808   \n",
      "                                                                 \n",
      " conv2d_11 (Conv2D)          (None, 24, 24, 512)       2359808   \n",
      "                                                                 \n",
      " max_pooling2d_3 (MaxPoolin  (None, 12, 12, 512)       0         \n",
      " g2D)                                                            \n",
      "                                                                 \n",
      " conv2d_12 (Conv2D)          (None, 10, 10, 512)       2359808   \n",
      "                                                                 \n",
      " conv2d_13 (Conv2D)          (None, 8, 8, 512)         2359808   \n",
      "                                                                 \n",
      " conv2d_14 (Conv2D)          (None, 6, 6, 512)         2359808   \n",
      "                                                                 \n",
      " conv2d_15 (Conv2D)          (None, 4, 4, 512)         2359808   \n",
      "                                                                 \n",
      " max_pooling2d_4 (MaxPoolin  (None, 2, 2, 512)         0         \n",
      " g2D)                                                            \n",
      "                                                                 \n",
      " flatten (Flatten)           (None, 2048)              0         \n",
      "                                                                 \n",
      " dense (Dense)               (None, 4096)              8392704   \n",
      "                                                                 \n",
      " dense_1 (Dense)             (None, 4096)              16781312  \n",
      "                                                                 \n",
      " dense_2 (Dense)             (None, 4)                 16388     \n",
      "                                                                 \n",
      "=================================================================\n",
      "Total params: 45213636 (172.48 MB)\n",
      "Trainable params: 45213636 (172.48 MB)\n",
      "Non-trainable params: 0 (0.00 Byte)\n",
      "_________________________________________________________________\n"
     ]
    }
   ],
   "source": [
    "# vgg19\n",
    "model = models.Sequential()\n",
    "\n",
    "# Convolutional layers\n",
    "model.add(layers.Conv2D(64, (3, 3), activation='relu', input_shape=(300, 300, 1)))\n",
    "model.add(layers.Conv2D(64, (3, 3), activation='relu'))\n",
    "model.add(layers.MaxPooling2D((2, 2), strides=(2, 2)))\n",
    "\n",
    "model.add(layers.Conv2D(128, (3, 3), activation='relu'))\n",
    "model.add(layers.Conv2D(128, (3, 3), activation='relu'))\n",
    "model.add(layers.MaxPooling2D((2, 2), strides=(2, 2)))\n",
    "\n",
    "model.add(layers.Conv2D(256, (3, 3), activation='relu'))\n",
    "model.add(layers.Conv2D(256, (3, 3), activation='relu'))\n",
    "model.add(layers.Conv2D(256, (3, 3), activation='relu'))\n",
    "model.add(layers.Conv2D(256, (3, 3), activation='relu'))\n",
    "model.add(layers.MaxPooling2D((2, 2), strides=(2, 2)))\n",
    "\n",
    "model.add(layers.Conv2D(512, (3, 3), activation='relu'))\n",
    "model.add(layers.Conv2D(512, (3, 3), activation='relu'))\n",
    "model.add(layers.Conv2D(512, (3, 3), activation='relu'))\n",
    "model.add(layers.Conv2D(512, (3, 3), activation='relu'))\n",
    "model.add(layers.MaxPooling2D((2, 2), strides=(2, 2)))\n",
    "\n",
    "model.add(layers.Conv2D(512, (3, 3), activation='relu'))\n",
    "model.add(layers.Conv2D(512, (3, 3), activation='relu'))\n",
    "model.add(layers.Conv2D(512, (3, 3), activation='relu'))\n",
    "model.add(layers.Conv2D(512, (3, 3), activation='relu'))\n",
    "model.add(layers.MaxPooling2D((2, 2), strides=(2, 2)))\n",
    "\n",
    "# Fully connected layers\n",
    "model.add(layers.Flatten())\n",
    "model.add(layers.Dense(4096, activation='relu'))\n",
    "model.add(layers.Dense(4096, activation='relu'))\n",
    "model.add(layers.Dense(4, activation='softmax'))\n",
    "model.summary()\n"
   ]
  },
  {
   "cell_type": "code",
   "execution_count": 13,
   "metadata": {},
   "outputs": [
    {
     "name": "stdout",
     "output_type": "stream",
     "text": [
      "Epoch 1/10\n",
      "142/142 [==============================] - 1689s 12s/step - loss: 25.2742 - accuracy: 0.2465\n",
      "Epoch 2/10\n",
      "142/142 [==============================] - 1674s 12s/step - loss: 1.3866 - accuracy: 0.2498\n",
      "Epoch 3/10\n",
      "142/142 [==============================] - 1705s 12s/step - loss: 1.4724 - accuracy: 0.2520\n",
      "Epoch 4/10\n",
      "142/142 [==============================] - 1732s 12s/step - loss: 1.4027 - accuracy: 0.2471\n",
      "Epoch 5/10\n",
      "142/142 [==============================] - 1690s 12s/step - loss: 1.3985 - accuracy: 0.2423\n",
      "Epoch 6/10\n",
      "142/142 [==============================] - 1710s 12s/step - loss: 1.3866 - accuracy: 0.2451\n",
      "Epoch 7/10\n",
      "142/142 [==============================] - 1728s 12s/step - loss: 1.3865 - accuracy: 0.2458\n",
      "Epoch 8/10\n",
      "142/142 [==============================] - 1719s 12s/step - loss: 1.3864 - accuracy: 0.2394\n",
      "Epoch 9/10\n",
      "142/142 [==============================] - 1708s 12s/step - loss: 1.3865 - accuracy: 0.2449\n",
      "Epoch 10/10\n",
      "142/142 [==============================] - 1699s 12s/step - loss: 1.3865 - accuracy: 0.2420\n"
     ]
    }
   ],
   "source": [
    "model.compile(optimizer='adam',\n",
    "              loss=tf.keras.losses.CategoricalCrossentropy(),\n",
    "    # SparseCategoricalCrossentropy(from_logits=True),\n",
    "              metrics=['accuracy'])\n",
    "\n",
    "history = model.fit(X_train, train_y, epochs=10)"
   ]
  },
  {
   "cell_type": "code",
   "execution_count": 14,
   "metadata": {},
   "outputs": [
    {
     "name": "stdout",
     "output_type": "stream",
     "text": [
      "48/48 [==============================] - 111s 2s/step\n",
      "mono and poly:\n",
      "\n",
      "accuracy: 0.25\n",
      "\n",
      "f1: 0.10\n",
      "\n",
      "34/34 [==============================] - 77s 2s/step\n",
      "mono:\n",
      "\n",
      "accuracy: 0.05\n",
      "\n",
      "f1: 0.01\n",
      "\n",
      "49/49 [==============================] - 92s 2s/step\n",
      "poly:\n",
      "\n",
      "accuracy: 0.03\n",
      "\n",
      "f1: 0.00\n",
      "\n"
     ]
    },
    {
     "data": {
      "image/png": "[encoded data removed]",
      "text/plain": [
       "<Figure size 432x288 with 2 Axes>"
      ]
     },
     "metadata": {
      "needs_background": "light"
     },
     "output_type": "display_data"
    },
    {
     "data": {
      "image/png": "[encoded data removed]",
      "text/plain": [
       "<Figure size 432x288 with 2 Axes>"
      ]
     },
     "metadata": {
      "needs_background": "light"
     },
     "output_type": "display_data"
    },
    {
     "data": {
      "image/png": "[encoded data removed]",
      "text/plain": [
       "<Figure size 432x288 with 2 Axes>"
      ]
     },
     "metadata": {
      "needs_background": "light"
     },
     "output_type": "display_data"
    }
   ],
   "source": [
    "summary(np.argmax(test_y, axis=1), np.argmax(model.predict(X_test), axis=1), 'mono and poly')\n",
    "summary(np.argmax(mono_probs, axis=1), np.argmax(model.predict(mono_images), axis=1), 'mono')\n",
    "summary(np.argmax(poly_probs, axis=1), np.argmax(model.predict(poly_images), axis=1), 'poly')"
   ]
  }
 ],
 "metadata": {
  "kernelspec": {
   "display_name": "Python 3",
   "language": "python",
   "name": "python3"
  },
  "language_info": {
   "codemirror_mode": {
    "name": "ipython",
    "version": 3
   },
   "file_extension": ".py",
   "mimetype": "text/x-python",
   "name": "python",
   "nbconvert_exporter": "python",
   "pygments_lexer": "ipython3",
   "version": "3.9.10"
  }
 },
 "nbformat": 4,
 "nbformat_minor": 2
}
