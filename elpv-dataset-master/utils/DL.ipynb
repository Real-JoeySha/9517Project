{
 "cells": [
  {
   "cell_type": "code",
   "execution_count": 1,
   "metadata": {},
   "outputs": [],
   "source": [
    "from elpv_reader import load_dataset\n",
    "import numpy as np\n",
    "import tensorflow as tf\n",
    "import cv2\n",
    "import matplotlib.pyplot as plt\n",
    "from keras import datasets, layers, models\n",
    "from keras.utils import to_categorical\n",
    "from sklearn.metrics import f1_score\n",
    "from sklearn.metrics import accuracy_score\n",
    "from sklearn.metrics import confusion_matrix, ConfusionMatrixDisplay\n",
    "from imblearn.over_sampling import SMOTE\n",
    "from sklearn.model_selection import train_test_split"
   ]
  },
  {
   "cell_type": "code",
   "execution_count": 3,
   "metadata": {},
   "outputs": [],
   "source": [
    "# load data\n",
    "images, probs, types = load_dataset()\n",
    "\n",
    "# Make probs labels\n",
    "probs = np.array([int(i*3) for i in probs])"
   ]
  },
  {
   "cell_type": "code",
   "execution_count": 4,
   "metadata": {},
   "outputs": [],
   "source": [
    "# process the images with threshold\n",
    "IMAGES = []\n",
    "for i in images:\n",
    "    _, thresh = cv2.threshold(i, 0, 255, cv2.THRESH_BINARY + cv2.THRESH_OTSU)\n",
    "    IMAGES.append(thresh)\n",
    "IMAGES = np.array(IMAGES)\n",
    "images = IMAGES"
   ]
  },
  {
   "cell_type": "code",
   "execution_count": 4,
   "metadata": {},
   "outputs": [],
   "source": [
    "# Count each unique label's occurrence\n",
    "# label_counts = {label: probs.count(label) for label in set(probs)}\n",
    "# print(\"Total counts per class:\", label_counts)\n",
    "\n",
    "# Reshape images to 2D for SMOTE\n",
    "num_images, height, width = images.shape\n",
    "images_reshaped = images.reshape(num_images, -1)\n",
    "\n",
    "# Apply SMOTE\n",
    "smote = SMOTE()\n",
    "X_over, y_labels_over = smote.fit_resample(images_reshaped, probs)\n",
    "\n",
    "# After oversampling, reshape the images back to the original shape\n",
    "X_over_reshaped = X_over.reshape(-1, height, width)\n",
    "\n",
    "# Now you need to construct 'types_over'. This part needs careful attention.\n",
    "# Since SMOTE creates new samples, we cannot simply repeat the 'types'.\n",
    "# Here's a simple way to do it: for each new sample in 'y_over' that was not in the original 'y_labels',\n",
    "# we randomly assign a 'type' from the original 'types' corresponding to the same class.\n",
    "\n",
    "# Find the indices of the added samples\n",
    "new_indices = [i for i in range(len(y_labels_over)) if i >= len(probs)]\n",
    "\n",
    "# Initialize types_over with the original types\n",
    "types_over = types.tolist()\n",
    "\n",
    "# Append types for the new, oversampled indices\n",
    "for i in new_indices:\n",
    "    # Get the label of the new sample\n",
    "    label = y_labels_over[i]\n",
    "    \n",
    "    # Get the indices of the original samples with the same label\n",
    "    original_indices = [j for j, l in enumerate(probs) if l == label]\n",
    "    \n",
    "    # Randomly choose a type from the original samples of the same label\n",
    "    chosen_type = types[np.random.choice(original_indices)]\n",
    "    \n",
    "    # Append this type to types_over\n",
    "    types_over.append(chosen_type)\n",
    "\n",
    "# Ensure that 'types_over' is now a numpy array\n",
    "types_over = np.array(types_over)\n",
    "\n",
    "# Split the dataset into training and testing sets\n",
    "X_train, X_test, y_train, y_test, types_train, types_test = train_test_split(\n",
    "    X_over_reshaped, y_labels_over, types_over, test_size=0.25, stratify=y_labels_over\n",
    ")\n",
    "\n",
    "train_y = to_categorical(y_train, num_classes=4)\n",
    "test_y = to_categorical(y_test, num_classes=4)"
   ]
  },
  {
   "cell_type": "code",
   "execution_count": 5,
   "metadata": {},
   "outputs": [],
   "source": [
    "# ratio = 0.7\n",
    "# th = int(2624*.7)\n",
    "# train_x = images[:1968]\n",
    "# train_y = to_categorical(probs[:1968], num_classes=4)\n",
    "\n",
    "# test_x = images[-656:]\n",
    "# test_y = to_categorical(probs[-656:], num_classes=4)"
   ]
  },
  {
   "cell_type": "code",
   "execution_count": 6,
   "metadata": {},
   "outputs": [],
   "source": [
    "# monocrystalline dataset\n",
    "mono_images = np.array([images[i] for i in range(len(types)) if types[i]=='mono'])\n",
    "mono_probs = to_categorical(np.array([probs[i] for i in range(len(types)) if types[i]=='mono']), num_classes=4)\n",
    "\n",
    "# polycrystalline dataset\n",
    "poly_images = np.array([images[i] for i in range(len(types)) if types[i]=='poly'])\n",
    "poly_probs = to_categorical(np.array([probs[i] for i in range(len(types)) if types[i]=='poly']), num_classes=4)"
   ]
  },
  {
   "cell_type": "code",
   "execution_count": 7,
   "metadata": {},
   "outputs": [],
   "source": [
    "model1 = models.Sequential()\n",
    "model1.add(layers.Conv2D(6, (3, 3), activation='relu', input_shape=(300, 300, 1)))\n",
    "model1.add(layers.MaxPooling2D((2, 2), strides=(2, 2)))\n",
    "# model.add(layers.Conv2D(10, (3, 3), activation='relu'))\n",
    "# model.add(layers.MaxPooling2D((2, 2), strides=(2, 2)))\n",
    "# model.add(layers.Conv2D(32, (3, 3), activation='relu'))\n",
    "# model.add(layers.MaxPooling2D((2, 2), strides=(2, 2)))\n",
    "# model.add(layers.Conv2D(128, (3, 3), activation='relu'))\n",
    "# model.add(layers.MaxPooling2D((2, 2), strides=(2, 2)))\n",
    "\n",
    "model1.add(layers.Flatten())\n",
    "# model.add(layers.Dense(256, activation='relu'))\n",
    "# model.add(layers.Dense(128, activation='relu'))\n",
    "# model.add(layers.Dense(64, activation='relu'))\n",
    "model1.add(layers.Dense(4, activation='softmax'))"
   ]
  },
  {
   "cell_type": "code",
   "execution_count": 8,
   "metadata": {},
   "outputs": [],
   "source": [
    "# vgg19\n",
    "model = models.Sequential()\n",
    "\n",
    "# Convolutional layers\n",
    "model.add(layers.Conv2D(64, (3, 3), activation='relu', input_shape=(300, 300, 1)))\n",
    "model.add(layers.Conv2D(64, (3, 3), activation='relu'))\n",
    "model.add(layers.MaxPooling2D((2, 2), strides=(2, 2)))\n",
    "\n",
    "model.add(layers.Conv2D(128, (3, 3), activation='relu'))\n",
    "model.add(layers.Conv2D(128, (3, 3), activation='relu'))\n",
    "model.add(layers.MaxPooling2D((2, 2), strides=(2, 2)))\n",
    "\n",
    "model.add(layers.Conv2D(256, (3, 3), activation='relu'))\n",
    "model.add(layers.Conv2D(256, (3, 3), activation='relu'))\n",
    "model.add(layers.Conv2D(256, (3, 3), activation='relu'))\n",
    "model.add(layers.Conv2D(256, (3, 3), activation='relu'))\n",
    "model.add(layers.MaxPooling2D((2, 2), strides=(2, 2)))\n",
    "\n",
    "model.add(layers.Conv2D(512, (3, 3), activation='relu'))\n",
    "model.add(layers.Conv2D(512, (3, 3), activation='relu'))\n",
    "model.add(layers.Conv2D(512, (3, 3), activation='relu'))\n",
    "model.add(layers.Conv2D(512, (3, 3), activation='relu'))\n",
    "model.add(layers.MaxPooling2D((2, 2), strides=(2, 2)))\n",
    "\n",
    "model.add(layers.Conv2D(512, (3, 3), activation='relu'))\n",
    "model.add(layers.Conv2D(512, (3, 3), activation='relu'))\n",
    "model.add(layers.Conv2D(512, (3, 3), activation='relu'))\n",
    "model.add(layers.Conv2D(512, (3, 3), activation='relu'))\n",
    "model.add(layers.MaxPooling2D((2, 2), strides=(2, 2)))\n",
    "\n",
    "# Fully connected layers\n",
    "model.add(layers.Flatten())\n",
    "model.add(layers.Dense(4096, activation='relu'))\n",
    "model.add(layers.Dense(4096, activation='relu'))\n",
    "model.add(layers.Dense(4, activation='softmax'))\n",
    "# model.summary()\n"
   ]
  },
  {
   "cell_type": "code",
   "execution_count": 9,
   "metadata": {},
   "outputs": [
    {
     "name": "stdout",
     "output_type": "stream",
     "text": [
      "Epoch 1/10\n",
      "142/142 [==============================] - 17s 116ms/step - loss: 153.4294 - accuracy: 0.6408\n",
      "Epoch 2/10\n",
      "142/142 [==============================] - 17s 120ms/step - loss: 2.0636 - accuracy: 0.9264\n",
      "Epoch 3/10\n",
      "142/142 [==============================] - 17s 120ms/step - loss: 0.9236 - accuracy: 0.9587\n",
      "Epoch 4/10\n",
      "142/142 [==============================] - 17s 117ms/step - loss: 0.6446 - accuracy: 0.9684\n",
      "Epoch 5/10\n",
      "142/142 [==============================] - 17s 119ms/step - loss: 0.3602 - accuracy: 0.9825\n",
      "Epoch 6/10\n",
      "142/142 [==============================] - 17s 123ms/step - loss: 0.3989 - accuracy: 0.9850\n",
      "Epoch 7/10\n",
      "142/142 [==============================] - 18s 125ms/step - loss: 0.8408 - accuracy: 0.9699\n",
      "Epoch 8/10\n",
      "142/142 [==============================] - 18s 124ms/step - loss: 0.5083 - accuracy: 0.9819\n",
      "Epoch 9/10\n",
      "142/142 [==============================] - 17s 119ms/step - loss: 0.5312 - accuracy: 0.9832\n",
      "Epoch 10/10\n",
      "142/142 [==============================] - 17s 120ms/step - loss: 0.3954 - accuracy: 0.9903\n"
     ]
    }
   ],
   "source": [
    "model1.compile(optimizer='adam',\n",
    "              loss=tf.keras.losses.CategoricalCrossentropy(),\n",
    "    # SparseCategoricalCrossentropy(from_logits=True),\n",
    "              metrics=['accuracy'])\n",
    "\n",
    "history = model1.fit(X_train, train_y, epochs=10)"
   ]
  },
  {
   "cell_type": "code",
   "execution_count": 10,
   "metadata": {},
   "outputs": [
    {
     "name": "stdout",
     "output_type": "stream",
     "text": [
      "48/48 [==============================] - 2s 30ms/step - loss: 8.8813 - accuracy: 0.8992\n"
     ]
    }
   ],
   "source": [
    "test_loss, test_acc = model1.evaluate(X_test, test_y)"
   ]
  },
  {
   "cell_type": "code",
   "execution_count": 11,
   "metadata": {},
   "outputs": [],
   "source": [
    "def summary(true_y, pred_y, title):\n",
    "    print(title+':\\n')\n",
    "    print(f'accuracy: {accuracy_score(true_y, pred_y):.2f}\\n')\n",
    "    print(f'f1: {f1_score(true_y, pred_y, average=\"weighted\"):.2f}\\n')\n",
    "    ConfusionMatrixDisplay(confusion_matrix(true_y, pred_y)).plot()"
   ]
  },
  {
   "cell_type": "code",
   "execution_count": 12,
   "metadata": {},
   "outputs": [
    {
     "name": "stdout",
     "output_type": "stream",
     "text": [
      "48/48 [==============================] - 2s 30ms/step\n",
      "mono and poly:\n",
      "\n",
      "accuracy: 0.90\n",
      "\n",
      "f1: 0.90\n",
      "\n",
      "34/34 [==============================] - 1s 30ms/step\n",
      "mono:\n",
      "\n",
      "accuracy: 0.95\n",
      "\n",
      "f1: 0.95\n",
      "\n",
      "49/49 [==============================] - 1s 30ms/step\n",
      "poly:\n",
      "\n",
      "accuracy: 0.94\n",
      "\n",
      "f1: 0.94\n",
      "\n"
     ]
    },
    {
     "data": {
      "image/png": "[encoded data removed]",
      "text/plain": [
       "<Figure size 432x288 with 2 Axes>"
      ]
     },
     "metadata": {
      "needs_background": "light"
     },
     "output_type": "display_data"
    },
    {
     "data": {
      "image/png": "[encoded data removed]",
      "text/plain": [
       "<Figure size 432x288 with 2 Axes>"
      ]
     },
     "metadata": {
      "needs_background": "light"
     },
     "output_type": "display_data"
    },
    {
     "data": {
      "image/png": "[encoded data removed]",
      "text/plain": [
       "<Figure size 432x288 with 2 Axes>"
      ]
     },
     "metadata": {
      "needs_background": "light"
     },
     "output_type": "display_data"
    }
   ],
   "source": [
    "# mono_probs = np.array([probs[i] for i in range(len(types)) if types[i]=='mono'])\n",
    "summary(np.argmax(test_y, axis=1), np.argmax(model1.predict(X_test), axis=1), 'mono and poly')\n",
    "summary(np.argmax(mono_probs, axis=1), np.argmax(model1.predict(mono_images), axis=1), 'mono')\n",
    "summary(np.argmax(poly_probs, axis=1), np.argmax(model1.predict(poly_images), axis=1), 'poly')"
   ]
  },
  {
   "cell_type": "code",
   "execution_count": 13,
   "metadata": {},
   "outputs": [
    {
     "name": "stdout",
     "output_type": "stream",
     "text": [
      "Epoch 1/10\n",
      "142/142 [==============================] - 1689s 12s/step - loss: 25.2742 - accuracy: 0.2465\n",
      "Epoch 2/10\n",
      "142/142 [==============================] - 1674s 12s/step - loss: 1.3866 - accuracy: 0.2498\n",
      "Epoch 3/10\n",
      "142/142 [==============================] - 1705s 12s/step - loss: 1.4724 - accuracy: 0.2520\n",
      "Epoch 4/10\n",
      "142/142 [==============================] - 1732s 12s/step - loss: 1.4027 - accuracy: 0.2471\n",
      "Epoch 5/10\n",
      "142/142 [==============================] - 1690s 12s/step - loss: 1.3985 - accuracy: 0.2423\n",
      "Epoch 6/10\n",
      "142/142 [==============================] - 1710s 12s/step - loss: 1.3866 - accuracy: 0.2451\n",
      "Epoch 7/10\n",
      "142/142 [==============================] - 1728s 12s/step - loss: 1.3865 - accuracy: 0.2458\n",
      "Epoch 8/10\n",
      "142/142 [==============================] - 1719s 12s/step - loss: 1.3864 - accuracy: 0.2394\n",
      "Epoch 9/10\n",
      "142/142 [==============================] - 1708s 12s/step - loss: 1.3865 - accuracy: 0.2449\n",
      "Epoch 10/10\n",
      "142/142 [==============================] - 1699s 12s/step - loss: 1.3865 - accuracy: 0.2420\n"
     ]
    }
   ],
   "source": [
    "model.compile(optimizer='adam',\n",
    "              loss=tf.keras.losses.CategoricalCrossentropy(),\n",
    "    # SparseCategoricalCrossentropy(from_logits=True),\n",
    "              metrics=['accuracy'])\n",
    "\n",
    "history = model.fit(X_train, train_y, epochs=10)"
   ]
  },
  {
   "cell_type": "code",
   "execution_count": 14,
   "metadata": {},
   "outputs": [
    {
     "name": "stdout",
     "output_type": "stream",
     "text": [
      "48/48 [==============================] - 111s 2s/step\n",
      "mono and poly:\n",
      "\n",
      "accuracy: 0.25\n",
      "\n",
      "f1: 0.10\n",
      "\n",
      "34/34 [==============================] - 77s 2s/step\n",
      "mono:\n",
      "\n",
      "accuracy: 0.05\n",
      "\n",
      "f1: 0.01\n",
      "\n",
      "49/49 [==============================] - 92s 2s/step\n",
      "poly:\n",
      "\n",
      "accuracy: 0.03\n",
      "\n",
      "f1: 0.00\n",
      "\n"
     ]
    },
    {
     "data": {
      "image/png": "[encoded data removed]",
      "text/plain": [
       "<Figure size 432x288 with 2 Axes>"
      ]
     },
     "metadata": {
      "needs_background": "light"
     },
     "output_type": "display_data"
    },
    {
     "data": {
      "image/png": "[encoded data removed]",
      "text/plain": [
       "<Figure size 432x288 with 2 Axes>"
      ]
     },
     "metadata": {
      "needs_background": "light"
     },
     "output_type": "display_data"
    },
    {
     "data": {
      "image/png": "[encoded data removed]",
      "text/plain": [
       "<Figure size 432x288 with 2 Axes>"
      ]
     },
     "metadata": {
      "needs_background": "light"
     },
     "output_type": "display_data"
    }
   ],
   "source": [
    "summary(np.argmax(test_y, axis=1), np.argmax(model.predict(X_test), axis=1), 'mono and poly')\n",
    "summary(np.argmax(mono_probs, axis=1), np.argmax(model.predict(mono_images), axis=1), 'mono')\n",
    "summary(np.argmax(poly_probs, axis=1), np.argmax(model.predict(poly_images), axis=1), 'poly')"
   ]
  }
 ],
 "metadata": {
  "kernelspec": {
   "display_name": "Python 3",
   "language": "python",
   "name": "python3"
  },
  "language_info": {
   "codemirror_mode": {
    "name": "ipython",
    "version": 3
   },
   "file_extension": ".py",
   "mimetype": "text/x-python",
   "name": "python",
   "nbconvert_exporter": "python",
   "pygments_lexer": "ipython3",
   "version": "3.9.10"
  }
 },
 "nbformat": 4,
 "nbformat_minor": 2
}
